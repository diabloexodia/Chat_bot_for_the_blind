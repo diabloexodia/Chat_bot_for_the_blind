{
 "cells": [
  {
   "cell_type": "code",
   "execution_count": 29,
   "metadata": {},
   "outputs": [
    {
     "name": "stdout",
     "output_type": "stream",
     "text": [
      "cryo\n"
     ]
    },
    {
     "name": "stderr",
     "output_type": "stream",
     "text": [
      "C:\\Users\\Diablo\\AppData\\Local\\Temp\\ipykernel_8200\\1848449176.py:16: UserWarning: To copy construct from a tensor, it is recommended to use sourceTensor.clone().detach() or sourceTensor.clone().detach().requires_grad_(True), rather than torch.tensor(sourceTensor).\n",
      "  start_scores = torch.tensor(start_scores).clone().detach()\n",
      "C:\\Users\\Diablo\\AppData\\Local\\Temp\\ipykernel_8200\\1848449176.py:17: UserWarning: To copy construct from a tensor, it is recommended to use sourceTensor.clone().detach() or sourceTensor.clone().detach().requires_grad_(True), rather than torch.tensor(sourceTensor).\n",
      "  end_scores = torch.tensor(end_scores).clone().detach()\n"
     ]
    }
   ],
   "source": [
    "import torch\n",
    "from transformers import AutoTokenizer, AutoModelForQuestionAnswering\n",
    "\n",
    "# Load the model and tokenizer\n",
    "model_name = \"distilbert-base-uncased-distilled-squad\"\n",
    "tokenizer = AutoTokenizer.from_pretrained(model_name)\n",
    "model = AutoModelForQuestionAnswering.from_pretrained(model_name)\n",
    "\n",
    "def generate_answer(question, context):\n",
    "    # Tokenize the inputs\n",
    "    inputs = tokenizer.encode_plus(question, context, return_tensors=\"pt\")\n",
    "\n",
    "    # Generate the answer\n",
    "    start_scores, end_scores = model(**inputs,return_dict=False)\n",
    "    \n",
    "    start_scores = torch.tensor(start_scores).clone().detach()\n",
    "    end_scores = torch.tensor(end_scores).clone().detach()\n",
    "\n",
    "    start_index = torch.argmax(start_scores)\n",
    "    end_index = torch.argmax(end_scores) + 1\n",
    "    answer_tokens = inputs[\"input_ids\"][0][start_index:end_index]\n",
    "    answer_tokens = answer_tokens.tolist()\n",
    "\n",
    "    # Convert the answer tokens back to text\n",
    "    answer = tokenizer.decode(answer_tokens)\n",
    "    answer = answer.replace(\"[CLS]\", \"\").replace(\"[SEP]\", \"\").strip()\n",
    "\n",
    "    return answer\n",
    "\n",
    "\n",
    "\n",
    "\n",
    "# Example usage\n",
    "context = \"\"\"Eula Lawrence is a playable Cryo character in Genshin Impact.\n",
    "Although a descendant of the infamous and tyrannical Lawrence Clan, Eula severed her ties with the clan and became the captain of the Reconnaissance Company with the Knights of Favonius.\"\"\"\n",
    "\n",
    "question = \"What element is Eula?\"   # Don't forget to incldue '?' at the end of the question\n",
    "answer = generate_answer(question, context)\n",
    "print(answer) \n"
   ]
  }
 ],
 "metadata": {
  "kernelspec": {
   "display_name": "Python 3",
   "language": "python",
   "name": "python3"
  },
  "language_info": {
   "codemirror_mode": {
    "name": "ipython",
    "version": 3
   },
   "file_extension": ".py",
   "mimetype": "text/x-python",
   "name": "python",
   "nbconvert_exporter": "python",
   "pygments_lexer": "ipython3",
   "version": "3.10.4"
  },
  "orig_nbformat": 4,
  "vscode": {
   "interpreter": {
    "hash": "865d8b2eb28e274047ba64063dfb6a2aabf0dfec4905d304d7a76618dae6fdd4"
   }
  }
 },
 "nbformat": 4,
 "nbformat_minor": 2
}
